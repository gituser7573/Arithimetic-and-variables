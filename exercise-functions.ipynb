{
 "cells": [
  {
   "cell_type": "markdown",
   "id": "b8b996ab",
   "metadata": {
    "papermill": {
     "duration": 0.004163,
     "end_time": "2025-02-26T16:58:50.531556",
     "exception": false,
     "start_time": "2025-02-26T16:58:50.527393",
     "status": "completed"
    },
    "tags": []
   },
   "source": [
    "**This notebook is an exercise in the [Intro to Programming](https://www.kaggle.com/learn/intro-to-programming) course.  You can reference the tutorial at [this link](https://www.kaggle.com/alexisbcook/functions).**\n",
    "\n",
    "---\n"
   ]
  },
  {
   "cell_type": "markdown",
   "id": "327e7a7a",
   "metadata": {
    "papermill": {
     "duration": 0.003022,
     "end_time": "2025-02-26T16:58:50.537897",
     "exception": false,
     "start_time": "2025-02-26T16:58:50.534875",
     "status": "completed"
    },
    "tags": []
   },
   "source": [
    "In the tutorial, you learned about functions. In this exercise, you'll write some of your own!\n",
    "\n",
    "# Set up the notebook\n",
    "\n",
    "Run the next code cell without changes to set up the notebook."
   ]
  },
  {
   "cell_type": "code",
   "execution_count": 1,
   "id": "1ebdccc6",
   "metadata": {
    "execution": {
     "iopub.execute_input": "2025-02-26T16:58:50.545600Z",
     "iopub.status.busy": "2025-02-26T16:58:50.545290Z",
     "iopub.status.idle": "2025-02-26T16:58:51.335195Z",
     "shell.execute_reply": "2025-02-26T16:58:51.334105Z"
    },
    "papermill": {
     "duration": 0.795691,
     "end_time": "2025-02-26T16:58:51.336752",
     "exception": false,
     "start_time": "2025-02-26T16:58:50.541061",
     "status": "completed"
    },
    "tags": []
   },
   "outputs": [
    {
     "name": "stdout",
     "output_type": "stream",
     "text": [
      "Setup complete.\n"
     ]
    }
   ],
   "source": [
    "# Set up the exercise\n",
    "import math\n",
    "from learntools.core import binder\n",
    "binder.bind(globals())\n",
    "from learntools.intro_to_programming.ex2 import *\n",
    "print('Setup complete.')"
   ]
  },
  {
   "cell_type": "markdown",
   "id": "85f69e02",
   "metadata": {
    "papermill": {
     "duration": 0.003157,
     "end_time": "2025-02-26T16:58:51.343729",
     "exception": false,
     "start_time": "2025-02-26T16:58:51.340572",
     "status": "completed"
    },
    "tags": []
   },
   "source": [
    "# Question 1\n",
    "\n",
    "In the [House Prices - Advanced Regression Techniques competition](https://www.kaggle.com/c/house-prices-advanced-regression-techniques/overview), you need to use information like the number of bedrooms and bathrooms to predict the price of a house.  Inspired by this competition, you'll write your own function to do this.\n",
    "\n",
    "In the next code cell, create a function `get_expected_cost()` that has two arguments:\n",
    "- `beds` - number of bedrooms \n",
    "- `baths` - number of bathrooms\n",
    "\n",
    "It should return the expected cost of a house with that number of bedrooms and bathrooms.  Assume that:\n",
    "- the expected cost for a house with 0 bedrooms and 0 bathrooms is `80000`.  \n",
    "- each bedroom adds `30000` to the expected cost\n",
    "- each bathroom adds `10000` to the expected cost.\n",
    "\n",
    "For instance, \n",
    "- a house with 1 bedroom and 1 bathroom has an expected cost of `120000`, and \n",
    "- a house with 2 bedrooms and 1 bathroom has an expected cost of `150000`."
   ]
  },
  {
   "cell_type": "code",
   "execution_count": 2,
   "id": "1f2d834d",
   "metadata": {
    "execution": {
     "iopub.execute_input": "2025-02-26T16:58:51.351685Z",
     "iopub.status.busy": "2025-02-26T16:58:51.351230Z",
     "iopub.status.idle": "2025-02-26T16:58:51.358073Z",
     "shell.execute_reply": "2025-02-26T16:58:51.357477Z"
    },
    "papermill": {
     "duration": 0.012092,
     "end_time": "2025-02-26T16:58:51.359163",
     "exception": false,
     "start_time": "2025-02-26T16:58:51.347071",
     "status": "completed"
    },
    "tags": []
   },
   "outputs": [
    {
     "data": {
      "application/javascript": [
       "parent.postMessage({\"jupyterEvent\": \"custom.exercise_interaction\", \"data\": {\"outcomeType\": 1, \"valueTowardsCompletion\": 0.2, \"interactionType\": 1, \"questionType\": 2, \"questionId\": \"1_GetExpectedCost\", \"learnToolsVersion\": \"0.3.4\", \"failureMessage\": \"\", \"exceptionClass\": \"\", \"trace\": \"\"}}, \"*\")"
      ],
      "text/plain": [
       "<IPython.core.display.Javascript object>"
      ]
     },
     "metadata": {},
     "output_type": "display_data"
    },
    {
     "data": {
      "text/markdown": [
       "<span style=\"color:#33cc33\">Correct</span>"
      ],
      "text/plain": [
       "Correct"
      ]
     },
     "metadata": {},
     "output_type": "display_data"
    }
   ],
   "source": [
    "# TODO: Complete the function\n",
    "def get_expected_cost(beds, baths):\n",
    "    value = 80000 + 30000 * beds + 10000 * baths\n",
    "    return value\n",
    "\n",
    "# Check your answer \n",
    "q1.check()"
   ]
  },
  {
   "cell_type": "code",
   "execution_count": 3,
   "id": "4bbf1c73",
   "metadata": {
    "execution": {
     "iopub.execute_input": "2025-02-26T16:58:51.368380Z",
     "iopub.status.busy": "2025-02-26T16:58:51.368003Z",
     "iopub.status.idle": "2025-02-26T16:58:51.371324Z",
     "shell.execute_reply": "2025-02-26T16:58:51.370473Z"
    },
    "papermill": {
     "duration": 0.009253,
     "end_time": "2025-02-26T16:58:51.372461",
     "exception": false,
     "start_time": "2025-02-26T16:58:51.363208",
     "status": "completed"
    },
    "tags": []
   },
   "outputs": [],
   "source": [
    "# Uncomment to see a hint\n",
    "#q1.hint()\n",
    "\n",
    "# Uncomment to view the solution\n",
    "#q1.solution()"
   ]
  },
  {
   "cell_type": "markdown",
   "id": "e496dfb4",
   "metadata": {
    "papermill": {
     "duration": 0.00331,
     "end_time": "2025-02-26T16:58:51.379806",
     "exception": false,
     "start_time": "2025-02-26T16:58:51.376496",
     "status": "completed"
    },
    "tags": []
   },
   "source": [
    "# Question 2\n",
    "\n",
    "You are thinking about buying a home and want to get an idea of how much you will spend, based on the number of bedrooms and bathrooms.  You are trying to decide between four different options:\n",
    "- Option 1: house with two bedrooms and three bathrooms\n",
    "- Option 2: house with three bedrooms and two bathrooms\n",
    "- Option 3: house with three bedrooms and three bathrooms\n",
    "- Option 4: house with three bedrooms and four bathrooms\n",
    "\n",
    "Use the `get_expected_cost()` function you defined in question 1 to set `option_1`, `option_2`, `option_3`, and `option_4` to the expected cost of each option."
   ]
  },
  {
   "cell_type": "code",
   "execution_count": 4,
   "id": "2379b74f",
   "metadata": {
    "execution": {
     "iopub.execute_input": "2025-02-26T16:58:51.388033Z",
     "iopub.status.busy": "2025-02-26T16:58:51.387700Z",
     "iopub.status.idle": "2025-02-26T16:58:51.395233Z",
     "shell.execute_reply": "2025-02-26T16:58:51.394207Z"
    },
    "papermill": {
     "duration": 0.013114,
     "end_time": "2025-02-26T16:58:51.396377",
     "exception": false,
     "start_time": "2025-02-26T16:58:51.383263",
     "status": "completed"
    },
    "tags": []
   },
   "outputs": [
    {
     "name": "stdout",
     "output_type": "stream",
     "text": [
      "170000\n",
      "190000\n",
      "200000\n",
      "210000\n"
     ]
    },
    {
     "data": {
      "application/javascript": [
       "parent.postMessage({\"jupyterEvent\": \"custom.exercise_interaction\", \"data\": {\"outcomeType\": 1, \"valueTowardsCompletion\": 0.2, \"interactionType\": 1, \"questionType\": 1, \"questionId\": \"2_RunGetExpectedCost\", \"learnToolsVersion\": \"0.3.4\", \"failureMessage\": \"\", \"exceptionClass\": \"\", \"trace\": \"\"}}, \"*\")"
      ],
      "text/plain": [
       "<IPython.core.display.Javascript object>"
      ]
     },
     "metadata": {},
     "output_type": "display_data"
    },
    {
     "data": {
      "text/markdown": [
       "<span style=\"color:#33cc33\">Correct</span>"
      ],
      "text/plain": [
       "Correct"
      ]
     },
     "metadata": {},
     "output_type": "display_data"
    }
   ],
   "source": [
    "# TODO: Use the get_expected_cost function to fill in each value\n",
    "option_one = get_expected_cost(2, 3)\n",
    "option_two = get_expected_cost(3, 2)\n",
    "option_three = get_expected_cost(3, 3)\n",
    "option_four = get_expected_cost(3, 4)\n",
    "print(option_one)\n",
    "print(option_two)\n",
    "print(option_three)\n",
    "print(option_four)\n",
    "\n",
    "# Check your answer\n",
    "q2.check()"
   ]
  },
  {
   "cell_type": "code",
   "execution_count": 5,
   "id": "092fc42f",
   "metadata": {
    "execution": {
     "iopub.execute_input": "2025-02-26T16:58:51.405632Z",
     "iopub.status.busy": "2025-02-26T16:58:51.405310Z",
     "iopub.status.idle": "2025-02-26T16:58:51.408523Z",
     "shell.execute_reply": "2025-02-26T16:58:51.407720Z"
    },
    "papermill": {
     "duration": 0.00915,
     "end_time": "2025-02-26T16:58:51.409680",
     "exception": false,
     "start_time": "2025-02-26T16:58:51.400530",
     "status": "completed"
    },
    "tags": []
   },
   "outputs": [],
   "source": [
    "# Uncomment to see a hint\n",
    "#q2.hint()\n",
    "\n",
    "# Uncomment to view the solution\n",
    "#q2.solution()"
   ]
  },
  {
   "cell_type": "markdown",
   "id": "084d3a7a",
   "metadata": {
    "papermill": {
     "duration": 0.00345,
     "end_time": "2025-02-26T16:58:51.417304",
     "exception": false,
     "start_time": "2025-02-26T16:58:51.413854",
     "status": "completed"
    },
    "tags": []
   },
   "source": [
    "# Question 3\n",
    "\n",
    "You're a home decorator, and you'd like to use Python to streamline some of your work.  Specifically, you're creating a tool that you intend to use to calculate the cost of painting a room.\n",
    "\n",
    "As a first step, define a function `get_cost()` that takes as input:\n",
    "- `sqft_walls` = total square feet of walls to be painted\n",
    "- `sqft_ceiling` = square feet of ceiling to be painted\n",
    "- `sqft_per_gallon` = number of square feet that you can cover with one gallon of paint\n",
    "- `cost_per_gallon` = cost (in dollars) of one gallon of paint\n",
    "\n",
    "It should return the cost (in dollars) of putting one coat of paint on all walls and the ceiling.  Assume you can buy the exact amount of paint that you need, so you can buy partial gallons (e.g., if you need 7.523 gallons, you can buy that exact amount, instead of needing to buy 8 gallons and waste some paint).  Do not round your answer."
   ]
  },
  {
   "cell_type": "code",
   "execution_count": 6,
   "id": "6a34aed8",
   "metadata": {
    "execution": {
     "iopub.execute_input": "2025-02-26T16:58:51.425737Z",
     "iopub.status.busy": "2025-02-26T16:58:51.425412Z",
     "iopub.status.idle": "2025-02-26T16:58:51.432207Z",
     "shell.execute_reply": "2025-02-26T16:58:51.431354Z"
    },
    "papermill": {
     "duration": 0.012426,
     "end_time": "2025-02-26T16:58:51.433345",
     "exception": false,
     "start_time": "2025-02-26T16:58:51.420919",
     "status": "completed"
    },
    "tags": []
   },
   "outputs": [
    {
     "data": {
      "application/javascript": [
       "parent.postMessage({\"jupyterEvent\": \"custom.exercise_interaction\", \"data\": {\"outcomeType\": 1, \"valueTowardsCompletion\": 0.2, \"interactionType\": 1, \"questionType\": 2, \"questionId\": \"3_GetCostPaint\", \"learnToolsVersion\": \"0.3.4\", \"failureMessage\": \"\", \"exceptionClass\": \"\", \"trace\": \"\"}}, \"*\")"
      ],
      "text/plain": [
       "<IPython.core.display.Javascript object>"
      ]
     },
     "metadata": {},
     "output_type": "display_data"
    },
    {
     "data": {
      "text/markdown": [
       "<span style=\"color:#33cc33\">Correct</span>"
      ],
      "text/plain": [
       "Correct"
      ]
     },
     "metadata": {},
     "output_type": "display_data"
    }
   ],
   "source": [
    "# TODO: Finish defining the function\n",
    "def get_cost(sqft_walls, sqft_ceiling, sqft_per_gallon, cost_per_gallon):\n",
    "    total_sqft = sqft_walls + sqft_ceiling\n",
    "    gallons_needed = total_sqft / sqft_per_gallon\n",
    "    cost = cost_per_gallon * gallons_needed\n",
    "    return cost\n",
    "\n",
    "# Check your answer\n",
    "q3.check()"
   ]
  },
  {
   "cell_type": "code",
   "execution_count": 7,
   "id": "b9d2ef36",
   "metadata": {
    "execution": {
     "iopub.execute_input": "2025-02-26T16:58:51.442861Z",
     "iopub.status.busy": "2025-02-26T16:58:51.442578Z",
     "iopub.status.idle": "2025-02-26T16:58:51.445870Z",
     "shell.execute_reply": "2025-02-26T16:58:51.444923Z"
    },
    "papermill": {
     "duration": 0.009211,
     "end_time": "2025-02-26T16:58:51.447050",
     "exception": false,
     "start_time": "2025-02-26T16:58:51.437839",
     "status": "completed"
    },
    "tags": []
   },
   "outputs": [],
   "source": [
    "# Uncomment to see a hint\n",
    "#q3.hint()\n",
    "\n",
    "# Uncomment to view the solution\n",
    "#q3.solution()"
   ]
  },
  {
   "cell_type": "markdown",
   "id": "46b59c31",
   "metadata": {
    "papermill": {
     "duration": 0.003774,
     "end_time": "2025-02-26T16:58:51.455306",
     "exception": false,
     "start_time": "2025-02-26T16:58:51.451532",
     "status": "completed"
    },
    "tags": []
   },
   "source": [
    "# Question 4\n",
    "\n",
    "Use the `get_cost()` function you defined in Question 3 to calculate the cost of applying one coat of paint to a room with:\n",
    "- 432 square feet of walls, and\n",
    "- 144 square feet of ceiling.\n",
    "\n",
    "Assume that one gallon of paint covers 400 square feet and costs $15.  As in Question 3, assume you can buy partial gallons of paint.  Do not round your answer."
   ]
  },
  {
   "cell_type": "code",
   "execution_count": 8,
   "id": "1571c46f",
   "metadata": {
    "execution": {
     "iopub.execute_input": "2025-02-26T16:58:51.464176Z",
     "iopub.status.busy": "2025-02-26T16:58:51.463805Z",
     "iopub.status.idle": "2025-02-26T16:58:51.469276Z",
     "shell.execute_reply": "2025-02-26T16:58:51.468581Z"
    },
    "papermill": {
     "duration": 0.011185,
     "end_time": "2025-02-26T16:58:51.470438",
     "exception": false,
     "start_time": "2025-02-26T16:58:51.459253",
     "status": "completed"
    },
    "tags": []
   },
   "outputs": [
    {
     "data": {
      "application/javascript": [
       "parent.postMessage({\"jupyterEvent\": \"custom.exercise_interaction\", \"data\": {\"outcomeType\": 1, \"valueTowardsCompletion\": 0.2, \"interactionType\": 1, \"questionType\": 1, \"questionId\": \"4_GetCostPaintExample\", \"learnToolsVersion\": \"0.3.4\", \"failureMessage\": \"\", \"exceptionClass\": \"\", \"trace\": \"\"}}, \"*\")"
      ],
      "text/plain": [
       "<IPython.core.display.Javascript object>"
      ]
     },
     "metadata": {},
     "output_type": "display_data"
    },
    {
     "data": {
      "text/markdown": [
       "<span style=\"color:#33cc33\">Correct</span>"
      ],
      "text/plain": [
       "Correct"
      ]
     },
     "metadata": {},
     "output_type": "display_data"
    }
   ],
   "source": [
    "# TODO: Set the project_cost variable to the cost of the project\n",
    "project_cost = get_cost(432, 144, 400, 15) \n",
    "\n",
    "# Check your answer\n",
    "q4.check()"
   ]
  },
  {
   "cell_type": "code",
   "execution_count": 9,
   "id": "12e30648",
   "metadata": {
    "execution": {
     "iopub.execute_input": "2025-02-26T16:58:51.479723Z",
     "iopub.status.busy": "2025-02-26T16:58:51.479415Z",
     "iopub.status.idle": "2025-02-26T16:58:51.482505Z",
     "shell.execute_reply": "2025-02-26T16:58:51.481853Z"
    },
    "papermill": {
     "duration": 0.009087,
     "end_time": "2025-02-26T16:58:51.483693",
     "exception": false,
     "start_time": "2025-02-26T16:58:51.474606",
     "status": "completed"
    },
    "tags": []
   },
   "outputs": [],
   "source": [
    "# Uncomment to see a hint\n",
    "#q4.hint()\n",
    "\n",
    "# Uncomment to view the solution\n",
    "#q4.solution()"
   ]
  },
  {
   "cell_type": "markdown",
   "id": "906a3063",
   "metadata": {
    "papermill": {
     "duration": 0.003737,
     "end_time": "2025-02-26T16:58:51.491926",
     "exception": false,
     "start_time": "2025-02-26T16:58:51.488189",
     "status": "completed"
    },
    "tags": []
   },
   "source": [
    "# 🌶️ Question 5\n",
    "\n",
    "Now say you can no longer buy fractions of a gallon.  (For instance, if you need 4.3 gallons to do a project, then you have to buy 5 gallons of paint.)\n",
    "\n",
    "With this new scenario, you will create a new function `get_actual_cost` that uses the same inputs and calculates the cost of your project.\n",
    "\n",
    "One function that you'll need to use to do this is `math.ceil()`.  We demonstrate usage of this function in the code cell below.  It takes as a number as input and rounds the number up to the nearest integer.  \n",
    "\n",
    "Run the next code cell to test this function for yourself.  Feel free to change the value of `test_value` and make sure `math.ceil()` returns the number you expect."
   ]
  },
  {
   "cell_type": "code",
   "execution_count": 10,
   "id": "bacacef5",
   "metadata": {
    "execution": {
     "iopub.execute_input": "2025-02-26T16:58:51.501039Z",
     "iopub.status.busy": "2025-02-26T16:58:51.500743Z",
     "iopub.status.idle": "2025-02-26T16:58:51.505593Z",
     "shell.execute_reply": "2025-02-26T16:58:51.504582Z"
    },
    "papermill": {
     "duration": 0.011212,
     "end_time": "2025-02-26T16:58:51.507063",
     "exception": false,
     "start_time": "2025-02-26T16:58:51.495851",
     "status": "completed"
    },
    "tags": []
   },
   "outputs": [
    {
     "name": "stdout",
     "output_type": "stream",
     "text": [
      "3\n"
     ]
    }
   ],
   "source": [
    "test_value = 2.17\n",
    "\n",
    "rounded_value = math.ceil(test_value)\n",
    "print(rounded_value)\n"
   ]
  },
  {
   "cell_type": "markdown",
   "id": "39cd4891",
   "metadata": {
    "papermill": {
     "duration": 0.005415,
     "end_time": "2025-02-26T16:58:51.517350",
     "exception": false,
     "start_time": "2025-02-26T16:58:51.511935",
     "status": "completed"
    },
    "tags": []
   },
   "source": [
    "Use the next code cell to define the function `get_actual_cost()`.  You'll need to use the `math.ceil()` function to do this.\n",
    "\n",
    "When answering this question, note that it's completely valid to define a function that makes use of another function.  For instance, we can define a function `round_up_and_divide_by_three` that makes use of the `math.ceil` function:\n",
    "```\n",
    "def round_up_and_divide_by_three(num):\n",
    "    new_value = math.ceil(num)\n",
    "    final_value = new_value / 3\n",
    "    return final_value\n",
    "```"
   ]
  },
  {
   "cell_type": "code",
   "execution_count": 11,
   "id": "4dea8198",
   "metadata": {
    "execution": {
     "iopub.execute_input": "2025-02-26T16:58:51.529359Z",
     "iopub.status.busy": "2025-02-26T16:58:51.529031Z",
     "iopub.status.idle": "2025-02-26T16:58:51.536839Z",
     "shell.execute_reply": "2025-02-26T16:58:51.535244Z"
    },
    "papermill": {
     "duration": 0.015851,
     "end_time": "2025-02-26T16:58:51.538348",
     "exception": false,
     "start_time": "2025-02-26T16:58:51.522497",
     "status": "completed"
    },
    "tags": []
   },
   "outputs": [
    {
     "data": {
      "application/javascript": [
       "parent.postMessage({\"jupyterEvent\": \"custom.exercise_interaction\", \"data\": {\"outcomeType\": 1, \"valueTowardsCompletion\": 0.2, \"interactionType\": 1, \"questionType\": 2, \"questionId\": \"5_NoMoreFractions\", \"learnToolsVersion\": \"0.3.4\", \"failureMessage\": \"\", \"exceptionClass\": \"\", \"trace\": \"\"}}, \"*\")"
      ],
      "text/plain": [
       "<IPython.core.display.Javascript object>"
      ]
     },
     "metadata": {},
     "output_type": "display_data"
    },
    {
     "data": {
      "text/markdown": [
       "<span style=\"color:#33cc33\">Correct</span>"
      ],
      "text/plain": [
       "Correct"
      ]
     },
     "metadata": {},
     "output_type": "display_data"
    }
   ],
   "source": [
    "def get_actual_cost(sqft_walls, sqft_ceiling, sqft_per_gallon, cost_per_gallon):\n",
    "    total_sqft = sqft_walls + sqft_ceiling\n",
    "    gallons_needed = total_sqft / sqft_per_gallon\n",
    "    gallons_to_buy = math.ceil(gallons_needed)\n",
    "    cost = cost_per_gallon * gallons_to_buy\n",
    "    return cost\n",
    "\n",
    "# Check your answer\n",
    "q5.check()"
   ]
  },
  {
   "cell_type": "code",
   "execution_count": 12,
   "id": "6482f3fa",
   "metadata": {
    "execution": {
     "iopub.execute_input": "2025-02-26T16:58:51.552372Z",
     "iopub.status.busy": "2025-02-26T16:58:51.551970Z",
     "iopub.status.idle": "2025-02-26T16:58:51.554998Z",
     "shell.execute_reply": "2025-02-26T16:58:51.554330Z"
    },
    "papermill": {
     "duration": 0.010545,
     "end_time": "2025-02-26T16:58:51.555985",
     "exception": false,
     "start_time": "2025-02-26T16:58:51.545440",
     "status": "completed"
    },
    "tags": []
   },
   "outputs": [],
   "source": [
    "# Uncomment to see a hint\n",
    "#q5.hint()\n",
    "\n",
    "# Uncomment to view the solution\n",
    "#q5.solution()\n"
   ]
  },
  {
   "cell_type": "markdown",
   "id": "9389201b",
   "metadata": {
    "papermill": {
     "duration": 0.003922,
     "end_time": "2025-02-26T16:58:51.564164",
     "exception": false,
     "start_time": "2025-02-26T16:58:51.560242",
     "status": "completed"
    },
    "tags": []
   },
   "source": [
    "Once your function is verified as correct, run the next code cell to calculate the updated cost of your project."
   ]
  },
  {
   "cell_type": "code",
   "execution_count": 13,
   "id": "25dd59d3",
   "metadata": {
    "execution": {
     "iopub.execute_input": "2025-02-26T16:58:51.573455Z",
     "iopub.status.busy": "2025-02-26T16:58:51.573126Z",
     "iopub.status.idle": "2025-02-26T16:58:51.578171Z",
     "shell.execute_reply": "2025-02-26T16:58:51.577431Z"
    },
    "papermill": {
     "duration": 0.011137,
     "end_time": "2025-02-26T16:58:51.579444",
     "exception": false,
     "start_time": "2025-02-26T16:58:51.568307",
     "status": "completed"
    },
    "tags": []
   },
   "outputs": [
    {
     "data": {
      "text/plain": [
       "30"
      ]
     },
     "execution_count": 13,
     "metadata": {},
     "output_type": "execute_result"
    }
   ],
   "source": [
    "get_actual_cost(432, 144, 400, 15) "
   ]
  },
  {
   "cell_type": "markdown",
   "id": "c8d1ab63",
   "metadata": {
    "papermill": {
     "duration": 0.004152,
     "end_time": "2025-02-26T16:58:51.588370",
     "exception": false,
     "start_time": "2025-02-26T16:58:51.584218",
     "status": "completed"
    },
    "tags": []
   },
   "source": [
    "Say you're working with a slightly larger room.  Run the next code cell to calculate the cost of the project."
   ]
  },
  {
   "cell_type": "code",
   "execution_count": 14,
   "id": "9048d3b8",
   "metadata": {
    "execution": {
     "iopub.execute_input": "2025-02-26T16:58:51.597846Z",
     "iopub.status.busy": "2025-02-26T16:58:51.597584Z",
     "iopub.status.idle": "2025-02-26T16:58:51.601968Z",
     "shell.execute_reply": "2025-02-26T16:58:51.601370Z"
    },
    "papermill": {
     "duration": 0.010245,
     "end_time": "2025-02-26T16:58:51.603038",
     "exception": false,
     "start_time": "2025-02-26T16:58:51.592793",
     "status": "completed"
    },
    "tags": []
   },
   "outputs": [
    {
     "data": {
      "text/plain": [
       "45"
      ]
     },
     "execution_count": 14,
     "metadata": {},
     "output_type": "execute_result"
    }
   ],
   "source": [
    "get_actual_cost(594, 288, 400, 15) "
   ]
  },
  {
   "cell_type": "markdown",
   "id": "74978b40",
   "metadata": {
    "papermill": {
     "duration": 0.004059,
     "end_time": "2025-02-26T16:58:51.611610",
     "exception": false,
     "start_time": "2025-02-26T16:58:51.607551",
     "status": "completed"
    },
    "tags": []
   },
   "source": [
    "# Keep going\n",
    "\n",
    "Continue to learn about **[data types](https://www.kaggle.com/alexisbcook/data-types)**."
   ]
  },
  {
   "cell_type": "markdown",
   "id": "5e8c10ce",
   "metadata": {
    "papermill": {
     "duration": 0.004007,
     "end_time": "2025-02-26T16:58:51.619992",
     "exception": false,
     "start_time": "2025-02-26T16:58:51.615985",
     "status": "completed"
    },
    "tags": []
   },
   "source": [
    "---\n",
    "\n",
    "\n",
    "\n",
    "\n",
    "*Have questions or comments? Visit the [course discussion forum](https://www.kaggle.com/learn/intro-to-programming/discussion) to chat with other learners.*"
   ]
  }
 ],
 "metadata": {
  "kaggle": {
   "accelerator": "none",
   "dataSources": [],
   "isGpuEnabled": false,
   "isInternetEnabled": false,
   "language": "python",
   "sourceType": "notebook"
  },
  "kernelspec": {
   "display_name": "Python 3",
   "language": "python",
   "name": "python3"
  },
  "language_info": {
   "codemirror_mode": {
    "name": "ipython",
    "version": 3
   },
   "file_extension": ".py",
   "mimetype": "text/x-python",
   "name": "python",
   "nbconvert_exporter": "python",
   "pygments_lexer": "ipython3",
   "version": "3.10.12"
  },
  "papermill": {
   "default_parameters": {},
   "duration": 3.725686,
   "end_time": "2025-02-26T16:58:52.144430",
   "environment_variables": {},
   "exception": null,
   "input_path": "__notebook__.ipynb",
   "output_path": "__notebook__.ipynb",
   "parameters": {},
   "start_time": "2025-02-26T16:58:48.418744",
   "version": "2.6.0"
  }
 },
 "nbformat": 4,
 "nbformat_minor": 5
}
