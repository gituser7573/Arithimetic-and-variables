{
 "cells": [
  {
   "cell_type": "markdown",
   "id": "42942543",
   "metadata": {
    "papermill": {
     "duration": 0.004552,
     "end_time": "2025-02-26T17:13:16.367013",
     "exception": false,
     "start_time": "2025-02-26T17:13:16.362461",
     "status": "completed"
    },
    "tags": []
   },
   "source": [
    "**This notebook is an exercise in the [Intro to Programming](https://www.kaggle.com/learn/intro-to-programming) course.  You can reference the tutorial at [this link](https://www.kaggle.com/alexisbcook/data-types).**\n",
    "\n",
    "---\n"
   ]
  },
  {
   "cell_type": "markdown",
   "id": "043770af",
   "metadata": {
    "papermill": {
     "duration": 0.003479,
     "end_time": "2025-02-26T17:13:16.374470",
     "exception": false,
     "start_time": "2025-02-26T17:13:16.370991",
     "status": "completed"
    },
    "tags": []
   },
   "source": [
    "In the tutorial, you learned about four different data types: floats, integers, strings, and booleans.  In this exercise, you'll experiment with them.\n",
    "\n",
    "# Set up the notebook\n",
    "\n",
    "Run the next code cell without changes to set up the notebook."
   ]
  },
  {
   "cell_type": "code",
   "execution_count": 1,
   "id": "4fa5585b",
   "metadata": {
    "execution": {
     "iopub.execute_input": "2025-02-26T17:13:16.382819Z",
     "iopub.status.busy": "2025-02-26T17:13:16.382488Z",
     "iopub.status.idle": "2025-02-26T17:13:17.295515Z",
     "shell.execute_reply": "2025-02-26T17:13:17.294176Z"
    },
    "papermill": {
     "duration": 0.918986,
     "end_time": "2025-02-26T17:13:17.296993",
     "exception": false,
     "start_time": "2025-02-26T17:13:16.378007",
     "status": "completed"
    },
    "tags": []
   },
   "outputs": [
    {
     "name": "stdout",
     "output_type": "stream",
     "text": [
      "Setup complete.\n"
     ]
    }
   ],
   "source": [
    "# Set up the exercise\n",
    "from learntools.core import binder\n",
    "binder.bind(globals())\n",
    "from learntools.intro_to_programming.ex3 import *\n",
    "print('Setup complete.')"
   ]
  },
  {
   "cell_type": "markdown",
   "id": "e10ff4a1",
   "metadata": {
    "papermill": {
     "duration": 0.003434,
     "end_time": "2025-02-26T17:13:17.304448",
     "exception": false,
     "start_time": "2025-02-26T17:13:17.301014",
     "status": "completed"
    },
    "tags": []
   },
   "source": [
    "# Question 1\n",
    "\n",
    "You have seen how to convert a float to an integer with the `int` function.  Try this out yourself by running the code cell below."
   ]
  },
  {
   "cell_type": "code",
   "execution_count": 2,
   "id": "6c77cf57",
   "metadata": {
    "execution": {
     "iopub.execute_input": "2025-02-26T17:13:17.313097Z",
     "iopub.status.busy": "2025-02-26T17:13:17.312628Z",
     "iopub.status.idle": "2025-02-26T17:13:17.318690Z",
     "shell.execute_reply": "2025-02-26T17:13:17.317705Z"
    },
    "papermill": {
     "duration": 0.011746,
     "end_time": "2025-02-26T17:13:17.319722",
     "exception": false,
     "start_time": "2025-02-26T17:13:17.307976",
     "status": "completed"
    },
    "tags": []
   },
   "outputs": [
    {
     "name": "stdout",
     "output_type": "stream",
     "text": [
      "1.3\n",
      "<class 'float'>\n",
      "1\n",
      "-2\n"
     ]
    }
   ],
   "source": [
    "# Define a float\n",
    "y = 1.3\n",
    "print(y)\n",
    "print(type(y))\n",
    "\n",
    "# Convert float to integer with the int function\n",
    "z = int(y)\n",
    "print(z)\n",
    "print(int(-2.19774))"
   ]
  },
  {
   "cell_type": "markdown",
   "id": "30994b55",
   "metadata": {
    "papermill": {
     "duration": 0.003332,
     "end_time": "2025-02-26T17:13:17.326806",
     "exception": false,
     "start_time": "2025-02-26T17:13:17.323474",
     "status": "completed"
    },
    "tags": []
   },
   "source": [
    "In this case, the float you are using has no numbers after the decimal.  \n",
    "- But what happens when you try to convert a float with a fractional part to an integer?  \n",
    "- How does the outcome of the `int` function change for positive and negative numbers?\n",
    "\n",
    "Use the next code cell to investigate and answer these questions.  Feel free to add or remove any lines of code -- it is your workspace!"
   ]
  },
  {
   "cell_type": "code",
   "execution_count": 3,
   "id": "42303cff",
   "metadata": {
    "execution": {
     "iopub.execute_input": "2025-02-26T17:13:17.335288Z",
     "iopub.status.busy": "2025-02-26T17:13:17.334880Z",
     "iopub.status.idle": "2025-02-26T17:13:17.338369Z",
     "shell.execute_reply": "2025-02-26T17:13:17.337450Z"
    },
    "papermill": {
     "duration": 0.009883,
     "end_time": "2025-02-26T17:13:17.340327",
     "exception": false,
     "start_time": "2025-02-26T17:13:17.330444",
     "status": "completed"
    },
    "tags": []
   },
   "outputs": [],
   "source": [
    "# Uncomment and run this code to get started!\n",
    "#print(int(1.2321))\n",
    "#print(int(1.747))\n",
    "#print(int(-3.94535))\n",
    "#print(int(-2.19774))"
   ]
  },
  {
   "cell_type": "markdown",
   "id": "73d156f3",
   "metadata": {
    "papermill": {
     "duration": 0.003699,
     "end_time": "2025-02-26T17:13:17.348606",
     "exception": false,
     "start_time": "2025-02-26T17:13:17.344907",
     "status": "completed"
    },
    "tags": []
   },
   "source": [
    "Once you have an answer, run the code cell below to see the solution.  Viewing the solution will give you credit for answering the problem."
   ]
  },
  {
   "cell_type": "code",
   "execution_count": 4,
   "id": "7c9be303",
   "metadata": {
    "execution": {
     "iopub.execute_input": "2025-02-26T17:13:17.357102Z",
     "iopub.status.busy": "2025-02-26T17:13:17.356786Z",
     "iopub.status.idle": "2025-02-26T17:13:17.364626Z",
     "shell.execute_reply": "2025-02-26T17:13:17.362900Z"
    },
    "papermill": {
     "duration": 0.014372,
     "end_time": "2025-02-26T17:13:17.366712",
     "exception": false,
     "start_time": "2025-02-26T17:13:17.352340",
     "status": "completed"
    },
    "tags": []
   },
   "outputs": [
    {
     "data": {
      "application/javascript": [
       "parent.postMessage({\"jupyterEvent\": \"custom.exercise_interaction\", \"data\": {\"outcomeType\": 1, \"valueTowardsCompletion\": 0.2, \"interactionType\": 1, \"questionType\": 4, \"questionId\": \"1_FloatToInt\", \"learnToolsVersion\": \"0.3.4\", \"failureMessage\": \"\", \"exceptionClass\": \"\", \"trace\": \"\"}}, \"*\")"
      ],
      "text/plain": [
       "<IPython.core.display.Javascript object>"
      ]
     },
     "metadata": {},
     "output_type": "display_data"
    },
    {
     "data": {
      "text/markdown": [
       "<span style=\"color:#33cc33\">Correct:</span> \n",
       "\n",
       "Negative floats are always rounded UP to the closest integer (for instance, both -1.1 and -1.9 are rounded up to -1). Positive floats are always rounded DOWN to the closest integer (for instance, 2.1 and 2.9 are rounded down to 2)."
      ],
      "text/plain": [
       "Correct: \n",
       "\n",
       "Negative floats are always rounded UP to the closest integer (for instance, both -1.1 and -1.9 are rounded up to -1). Positive floats are always rounded DOWN to the closest integer (for instance, 2.1 and 2.9 are rounded down to 2)."
      ]
     },
     "metadata": {},
     "output_type": "display_data"
    }
   ],
   "source": [
    "# Check your answer (Run this code cell to receive credit!)\n",
    "q1.check()"
   ]
  },
  {
   "cell_type": "markdown",
   "id": "b0c1eea3",
   "metadata": {
    "papermill": {
     "duration": 0.003871,
     "end_time": "2025-02-26T17:13:17.375239",
     "exception": false,
     "start_time": "2025-02-26T17:13:17.371368",
     "status": "completed"
    },
    "tags": []
   },
   "source": [
    "# Question 2\n",
    "\n",
    "In the tutorial, you learned about booleans (which can take a value of `True` or `False`), in addition to integers, floats, and strings.  For this question, your goal is to determine what happens when you multiply a boolean by any of these data types.  Specifically, \n",
    "- What happens when you multiply an integer or float by `True`?  What happens when you multiply them by `False`?  How does the answer change if the numbers are positive or negative?\n",
    "- What happens when you multiply a string by `True`?  By `False`?\n",
    "\n",
    "Use the next code cell for your investigation. "
   ]
  },
  {
   "cell_type": "code",
   "execution_count": 5,
   "id": "bbed4df4",
   "metadata": {
    "execution": {
     "iopub.execute_input": "2025-02-26T17:13:17.384416Z",
     "iopub.status.busy": "2025-02-26T17:13:17.384109Z",
     "iopub.status.idle": "2025-02-26T17:13:17.388973Z",
     "shell.execute_reply": "2025-02-26T17:13:17.387697Z"
    },
    "papermill": {
     "duration": 0.011272,
     "end_time": "2025-02-26T17:13:17.390474",
     "exception": false,
     "start_time": "2025-02-26T17:13:17.379202",
     "status": "completed"
    },
    "tags": []
   },
   "outputs": [
    {
     "name": "stdout",
     "output_type": "stream",
     "text": [
      "3\n",
      "-3.1\n",
      "<class 'str'>\n",
      "0\n"
     ]
    }
   ],
   "source": [
    "# Uncomment and run this code to get started!\n",
    "print(3 * True)\n",
    "print(-3.1 * True)\n",
    "print(type(\"abc\" * False))\n",
    "print(len(\"abc\" * False))"
   ]
  },
  {
   "cell_type": "markdown",
   "id": "f15b9537",
   "metadata": {
    "papermill": {
     "duration": 0.003589,
     "end_time": "2025-02-26T17:13:17.398361",
     "exception": false,
     "start_time": "2025-02-26T17:13:17.394772",
     "status": "completed"
    },
    "tags": []
   },
   "source": [
    "Once you have an answer, run the code cell below to see the solution.  Viewing the solution will give you credit for answering the problem."
   ]
  },
  {
   "cell_type": "code",
   "execution_count": 6,
   "id": "40fd475b",
   "metadata": {
    "execution": {
     "iopub.execute_input": "2025-02-26T17:13:17.407287Z",
     "iopub.status.busy": "2025-02-26T17:13:17.406892Z",
     "iopub.status.idle": "2025-02-26T17:13:17.413336Z",
     "shell.execute_reply": "2025-02-26T17:13:17.412561Z"
    },
    "papermill": {
     "duration": 0.012925,
     "end_time": "2025-02-26T17:13:17.415042",
     "exception": false,
     "start_time": "2025-02-26T17:13:17.402117",
     "status": "completed"
    },
    "tags": []
   },
   "outputs": [
    {
     "data": {
      "application/javascript": [
       "parent.postMessage({\"jupyterEvent\": \"custom.exercise_interaction\", \"data\": {\"outcomeType\": 1, \"valueTowardsCompletion\": 0.2, \"interactionType\": 1, \"questionType\": 4, \"questionId\": \"2_MultiplyBooleans\", \"learnToolsVersion\": \"0.3.4\", \"failureMessage\": \"\", \"exceptionClass\": \"\", \"trace\": \"\"}}, \"*\")"
      ],
      "text/plain": [
       "<IPython.core.display.Javascript object>"
      ]
     },
     "metadata": {},
     "output_type": "display_data"
    },
    {
     "data": {
      "text/markdown": [
       "<span style=\"color:#33cc33\">Correct:</span> \n",
       "\n",
       "When you multiple an integer or float by a boolean with value `True`, it just returns that same integer or float (and is equivalent to multiplying by 1).  If you multiply an integer or float by a boolean with value `False`, it always returns 0.  This is true for both positive and negative numbers.  If you multiply a string by a boolean with value `True`, it just returns that same string.  And if you multiply a string by a boolean with value `False`, it returns an empty string (or a string with length zero)."
      ],
      "text/plain": [
       "Correct: \n",
       "\n",
       "When you multiple an integer or float by a boolean with value `True`, it just returns that same integer or float (and is equivalent to multiplying by 1).  If you multiply an integer or float by a boolean with value `False`, it always returns 0.  This is true for both positive and negative numbers.  If you multiply a string by a boolean with value `True`, it just returns that same string.  And if you multiply a string by a boolean with value `False`, it returns an empty string (or a string with length zero)."
      ]
     },
     "metadata": {},
     "output_type": "display_data"
    }
   ],
   "source": [
    "# Check your answer (Run this code cell to receive credit!)\n",
    "q2.check()"
   ]
  },
  {
   "cell_type": "markdown",
   "id": "a48e0c2f",
   "metadata": {
    "papermill": {
     "duration": 0.003743,
     "end_time": "2025-02-26T17:13:17.423445",
     "exception": false,
     "start_time": "2025-02-26T17:13:17.419702",
     "status": "completed"
    },
    "tags": []
   },
   "source": [
    "# Question 3\n",
    "\n",
    "In this question, you will build off your work from the previous exercise to write a function that estimates the value of a house.\n",
    "\n",
    "Use the next code cell to create a function `get_expected_cost` that takes as input three variables:\n",
    "- `beds` - number of bedrooms (data type float)\n",
    "- `baths` - number of bathrooms (data type float)\n",
    "- `has_basement` - whether or not the house has a basement (data type boolean)\n",
    "\n",
    "It should return the expected cost of a house with those characteristics. Assume that:\n",
    "- the expected cost for a house with 0 bedrooms and 0 bathrooms, and no basement is 80000, \n",
    "- each bedroom adds 30000 to the expected cost,\n",
    "- each bathroom adds 10000 to the expected cost, and\n",
    "- a basement adds 40000 to the expected cost.\n",
    "\n",
    "For instance,\n",
    "- a house with 1 bedroom, 1 bathroom, and no basement has an expected cost of 80000 + 30000 + 10000 = 120000.  This value will be calculated with `get_expected_cost(1, 1, False)`.\n",
    "- a house with 2 bedrooms, 1 bathroom, and a basement has an expected cost of 80000 + 2*30000 + 10000 + 40000 = 190000.  This value will be calculated with `get_expected_cost(2, 1, True)`.\n",
    "\n",
    "Remember you can always get a hint by uncommenting `q3.hint()` in the code cell following the next!"
   ]
  },
  {
   "cell_type": "code",
   "execution_count": 7,
   "id": "e01e39e4",
   "metadata": {
    "execution": {
     "iopub.execute_input": "2025-02-26T17:13:17.432364Z",
     "iopub.status.busy": "2025-02-26T17:13:17.432014Z",
     "iopub.status.idle": "2025-02-26T17:13:17.437787Z",
     "shell.execute_reply": "2025-02-26T17:13:17.437115Z"
    },
    "papermill": {
     "duration": 0.011618,
     "end_time": "2025-02-26T17:13:17.438902",
     "exception": false,
     "start_time": "2025-02-26T17:13:17.427284",
     "status": "completed"
    },
    "tags": []
   },
   "outputs": [
    {
     "data": {
      "application/javascript": [
       "parent.postMessage({\"jupyterEvent\": \"custom.exercise_interaction\", \"data\": {\"outcomeType\": 1, \"valueTowardsCompletion\": 0.2, \"interactionType\": 1, \"questionType\": 2, \"questionId\": \"3_EstimateHouseValueBool\", \"learnToolsVersion\": \"0.3.4\", \"failureMessage\": \"\", \"exceptionClass\": \"\", \"trace\": \"\"}}, \"*\")"
      ],
      "text/plain": [
       "<IPython.core.display.Javascript object>"
      ]
     },
     "metadata": {},
     "output_type": "display_data"
    },
    {
     "data": {
      "text/markdown": [
       "<span style=\"color:#33cc33\">Correct</span>"
      ],
      "text/plain": [
       "Correct"
      ]
     },
     "metadata": {},
     "output_type": "display_data"
    }
   ],
   "source": [
    "# TODO: Complete the function\n",
    "def get_expected_cost(beds, baths, has_basement):\n",
    "    value = 80000 + 30000 * beds + 10000 * baths + 40000 * has_basement\n",
    "    return value\n",
    "\n",
    "# Check your answer \n",
    "q3.check()"
   ]
  },
  {
   "cell_type": "code",
   "execution_count": 8,
   "id": "911a4404",
   "metadata": {
    "execution": {
     "iopub.execute_input": "2025-02-26T17:13:17.448736Z",
     "iopub.status.busy": "2025-02-26T17:13:17.448361Z",
     "iopub.status.idle": "2025-02-26T17:13:17.452337Z",
     "shell.execute_reply": "2025-02-26T17:13:17.451122Z"
    },
    "papermill": {
     "duration": 0.010282,
     "end_time": "2025-02-26T17:13:17.453575",
     "exception": false,
     "start_time": "2025-02-26T17:13:17.443293",
     "status": "completed"
    },
    "tags": []
   },
   "outputs": [],
   "source": [
    "# Uncomment to see a hint\n",
    "#q3.hint()\n",
    "\n",
    "# Uncomment to view the solution\n",
    "#q3.solution()"
   ]
  },
  {
   "cell_type": "markdown",
   "id": "0043c11b",
   "metadata": {
    "papermill": {
     "duration": 0.0041,
     "end_time": "2025-02-26T17:13:17.462460",
     "exception": false,
     "start_time": "2025-02-26T17:13:17.458360",
     "status": "completed"
    },
    "tags": []
   },
   "source": [
    "# Question 4\n",
    "\n",
    "We'll continue our study of boolean arithmetic.  For this question, your task is to provide a description of what happpens when you add booleans. \n",
    "\n",
    "Use the next code cell for your investigation.  Feel free to add or remove any lines of code - use it as your workspace!"
   ]
  },
  {
   "cell_type": "code",
   "execution_count": 9,
   "id": "2041c175",
   "metadata": {
    "execution": {
     "iopub.execute_input": "2025-02-26T17:13:17.472207Z",
     "iopub.status.busy": "2025-02-26T17:13:17.471825Z",
     "iopub.status.idle": "2025-02-26T17:13:17.476493Z",
     "shell.execute_reply": "2025-02-26T17:13:17.475262Z"
    },
    "papermill": {
     "duration": 0.011364,
     "end_time": "2025-02-26T17:13:17.478151",
     "exception": false,
     "start_time": "2025-02-26T17:13:17.466787",
     "status": "completed"
    },
    "tags": []
   },
   "outputs": [
    {
     "name": "stdout",
     "output_type": "stream",
     "text": [
      "0\n",
      "1\n",
      "1\n",
      "2\n",
      "3\n"
     ]
    }
   ],
   "source": [
    "print(False + False)\n",
    "print(True + False)\n",
    "print(False + True)\n",
    "print(True + True)\n",
    "print(False + True + True + True)"
   ]
  },
  {
   "cell_type": "markdown",
   "id": "3c232300",
   "metadata": {
    "papermill": {
     "duration": 0.004256,
     "end_time": "2025-02-26T17:13:17.487336",
     "exception": false,
     "start_time": "2025-02-26T17:13:17.483080",
     "status": "completed"
    },
    "tags": []
   },
   "source": [
    "Once you have an answer, run the code cell below to see the solution.  Viewing the solution will give you credit for answering the problem."
   ]
  },
  {
   "cell_type": "code",
   "execution_count": 10,
   "id": "514cedfa",
   "metadata": {
    "execution": {
     "iopub.execute_input": "2025-02-26T17:13:17.497542Z",
     "iopub.status.busy": "2025-02-26T17:13:17.497212Z",
     "iopub.status.idle": "2025-02-26T17:13:17.504641Z",
     "shell.execute_reply": "2025-02-26T17:13:17.503517Z"
    },
    "papermill": {
     "duration": 0.014119,
     "end_time": "2025-02-26T17:13:17.506007",
     "exception": false,
     "start_time": "2025-02-26T17:13:17.491888",
     "status": "completed"
    },
    "tags": []
   },
   "outputs": [
    {
     "data": {
      "application/javascript": [
       "parent.postMessage({\"jupyterEvent\": \"custom.exercise_interaction\", \"data\": {\"outcomeType\": 1, \"valueTowardsCompletion\": 0.2, \"interactionType\": 1, \"questionType\": 4, \"questionId\": \"4_AddingBooleans\", \"learnToolsVersion\": \"0.3.4\", \"failureMessage\": \"\", \"exceptionClass\": \"\", \"trace\": \"\"}}, \"*\")"
      ],
      "text/plain": [
       "<IPython.core.display.Javascript object>"
      ]
     },
     "metadata": {},
     "output_type": "display_data"
    },
    {
     "data": {
      "text/markdown": [
       "<span style=\"color:#33cc33\">Correct:</span> \n",
       "\n",
       "When you add booleans, adding `False` is equivalent to adding 0, and adding `True` is equivalent to adding 1."
      ],
      "text/plain": [
       "Correct: \n",
       "\n",
       "When you add booleans, adding `False` is equivalent to adding 0, and adding `True` is equivalent to adding 1."
      ]
     },
     "metadata": {},
     "output_type": "display_data"
    }
   ],
   "source": [
    "# Check your answer (Run this code cell to receive credit!)\n",
    "q4.check()"
   ]
  },
  {
   "cell_type": "markdown",
   "id": "9b171959",
   "metadata": {
    "papermill": {
     "duration": 0.004422,
     "end_time": "2025-02-26T17:13:17.515379",
     "exception": false,
     "start_time": "2025-02-26T17:13:17.510957",
     "status": "completed"
    },
    "tags": []
   },
   "source": [
    "# 🌶️ Question 5\n",
    "\n",
    "You own an online shop where you sell rings with custom engravings.  You offer both gold plated and solid gold rings.\n",
    "- Gold plated rings have a base cost of \\\\$50, and you charge \\\\$7 per engraved unit.  \n",
    "- Solid gold rings have a base cost of \\\\$100, and you charge \\\\$10 per engraved unit.\n",
    "- Spaces and punctuation are counted as engraved units.\n",
    "\n",
    "Write a function `cost_of_project()` that takes two arguments:\n",
    "- `engraving` - a Python string with the text of the engraving\n",
    "- `solid_gold` - a Boolean that indicates whether the ring is solid gold\n",
    "\n",
    "It should return the cost of the project.  This question should be fairly challenging, and you may need a hint."
   ]
  },
  {
   "cell_type": "code",
   "execution_count": 11,
   "id": "ff971d65",
   "metadata": {
    "execution": {
     "iopub.execute_input": "2025-02-26T17:13:17.525308Z",
     "iopub.status.busy": "2025-02-26T17:13:17.524984Z",
     "iopub.status.idle": "2025-02-26T17:13:17.532305Z",
     "shell.execute_reply": "2025-02-26T17:13:17.531200Z"
    },
    "papermill": {
     "duration": 0.014121,
     "end_time": "2025-02-26T17:13:17.533886",
     "exception": false,
     "start_time": "2025-02-26T17:13:17.519765",
     "status": "completed"
    },
    "tags": []
   },
   "outputs": [
    {
     "data": {
      "application/javascript": [
       "parent.postMessage({\"jupyterEvent\": \"custom.exercise_interaction\", \"data\": {\"outcomeType\": 1, \"valueTowardsCompletion\": 0.2, \"interactionType\": 1, \"questionType\": 2, \"questionId\": \"5_CustomEngravings\", \"learnToolsVersion\": \"0.3.4\", \"failureMessage\": \"\", \"exceptionClass\": \"\", \"trace\": \"\"}}, \"*\")"
      ],
      "text/plain": [
       "<IPython.core.display.Javascript object>"
      ]
     },
     "metadata": {},
     "output_type": "display_data"
    },
    {
     "data": {
      "text/markdown": [
       "<span style=\"color:#33cc33\">Correct</span>"
      ],
      "text/plain": [
       "Correct"
      ]
     },
     "metadata": {},
     "output_type": "display_data"
    }
   ],
   "source": [
    "def cost_of_project(engraving, solid_gold):\n",
    "    cost = solid_gold * (100 + 10 * len(engraving)) + (not solid_gold) * (50 + 7 * len(engraving))\n",
    "    return cost\n",
    "# Check your answer\n",
    "q5.check()"
   ]
  },
  {
   "cell_type": "code",
   "execution_count": 12,
   "id": "f4d59f2a",
   "metadata": {
    "execution": {
     "iopub.execute_input": "2025-02-26T17:13:17.544780Z",
     "iopub.status.busy": "2025-02-26T17:13:17.544472Z",
     "iopub.status.idle": "2025-02-26T17:13:17.547739Z",
     "shell.execute_reply": "2025-02-26T17:13:17.546992Z"
    },
    "papermill": {
     "duration": 0.009879,
     "end_time": "2025-02-26T17:13:17.548984",
     "exception": false,
     "start_time": "2025-02-26T17:13:17.539105",
     "status": "completed"
    },
    "tags": []
   },
   "outputs": [],
   "source": [
    "# Uncomment to see a hint\n",
    "#q5.hint()\n",
    "\n",
    "# Uncomment to view the solution\n",
    "#q5.solution()"
   ]
  },
  {
   "cell_type": "markdown",
   "id": "b30fc5f5",
   "metadata": {
    "papermill": {
     "duration": 0.004504,
     "end_time": "2025-02-26T17:13:17.558515",
     "exception": false,
     "start_time": "2025-02-26T17:13:17.554011",
     "status": "completed"
    },
    "tags": []
   },
   "source": [
    "Run the next code cell to calculate the cost of engraving `Charlie+Denver` on a solid gold ring."
   ]
  },
  {
   "cell_type": "code",
   "execution_count": 13,
   "id": "b4f7d687",
   "metadata": {
    "execution": {
     "iopub.execute_input": "2025-02-26T17:13:17.568748Z",
     "iopub.status.busy": "2025-02-26T17:13:17.568439Z",
     "iopub.status.idle": "2025-02-26T17:13:17.572478Z",
     "shell.execute_reply": "2025-02-26T17:13:17.571393Z"
    },
    "papermill": {
     "duration": 0.010693,
     "end_time": "2025-02-26T17:13:17.573670",
     "exception": false,
     "start_time": "2025-02-26T17:13:17.562977",
     "status": "completed"
    },
    "tags": []
   },
   "outputs": [
    {
     "name": "stdout",
     "output_type": "stream",
     "text": [
      "240\n"
     ]
    }
   ],
   "source": [
    "project_one = cost_of_project(\"Charlie+Denver\", True)\n",
    "print(project_one)"
   ]
  },
  {
   "cell_type": "markdown",
   "id": "c21b2ab4",
   "metadata": {
    "papermill": {
     "duration": 0.004236,
     "end_time": "2025-02-26T17:13:17.582769",
     "exception": false,
     "start_time": "2025-02-26T17:13:17.578533",
     "status": "completed"
    },
    "tags": []
   },
   "source": [
    "Use the next code cell to calculate the cost of engraving `08/10/2000` on a gold plated ring."
   ]
  },
  {
   "cell_type": "code",
   "execution_count": 14,
   "id": "fb56f306",
   "metadata": {
    "execution": {
     "iopub.execute_input": "2025-02-26T17:13:17.593186Z",
     "iopub.status.busy": "2025-02-26T17:13:17.592789Z",
     "iopub.status.idle": "2025-02-26T17:13:17.597221Z",
     "shell.execute_reply": "2025-02-26T17:13:17.596454Z"
    },
    "papermill": {
     "duration": 0.011281,
     "end_time": "2025-02-26T17:13:17.598639",
     "exception": false,
     "start_time": "2025-02-26T17:13:17.587358",
     "status": "completed"
    },
    "tags": []
   },
   "outputs": [
    {
     "name": "stdout",
     "output_type": "stream",
     "text": [
      "120\n"
     ]
    }
   ],
   "source": [
    "project_two = cost_of_project(\"08/10/2000\", False)\n",
    "print(project_two)"
   ]
  },
  {
   "cell_type": "markdown",
   "id": "5e8f7ba0",
   "metadata": {
    "papermill": {
     "duration": 0.004193,
     "end_time": "2025-02-26T17:13:17.607717",
     "exception": false,
     "start_time": "2025-02-26T17:13:17.603524",
     "status": "completed"
    },
    "tags": []
   },
   "source": [
    "# Keep going\n",
    "\n",
    "Continue to the next lesson to **[learn about conditions and conditional statements](https://www.kaggle.com/alexisbcook/conditions-and-conditional-statements)**."
   ]
  },
  {
   "cell_type": "markdown",
   "id": "c67d5379",
   "metadata": {
    "papermill": {
     "duration": 0.004406,
     "end_time": "2025-02-26T17:13:17.616643",
     "exception": false,
     "start_time": "2025-02-26T17:13:17.612237",
     "status": "completed"
    },
    "tags": []
   },
   "source": [
    "---\n",
    "\n",
    "\n",
    "\n",
    "\n",
    "*Have questions or comments? Visit the [course discussion forum](https://www.kaggle.com/learn/intro-to-programming/discussion) to chat with other learners.*"
   ]
  }
 ],
 "metadata": {
  "kaggle": {
   "accelerator": "none",
   "dataSources": [],
   "isGpuEnabled": false,
   "isInternetEnabled": false,
   "language": "python",
   "sourceType": "notebook"
  },
  "kernelspec": {
   "display_name": "Python 3",
   "language": "python",
   "name": "python3"
  },
  "language_info": {
   "codemirror_mode": {
    "name": "ipython",
    "version": 3
   },
   "file_extension": ".py",
   "mimetype": "text/x-python",
   "name": "python",
   "nbconvert_exporter": "python",
   "pygments_lexer": "ipython3",
   "version": "3.10.12"
  },
  "papermill": {
   "default_parameters": {},
   "duration": 3.936346,
   "end_time": "2025-02-26T17:13:18.139886",
   "environment_variables": {},
   "exception": null,
   "input_path": "__notebook__.ipynb",
   "output_path": "__notebook__.ipynb",
   "parameters": {},
   "start_time": "2025-02-26T17:13:14.203540",
   "version": "2.3.3"
  }
 },
 "nbformat": 4,
 "nbformat_minor": 5
}
