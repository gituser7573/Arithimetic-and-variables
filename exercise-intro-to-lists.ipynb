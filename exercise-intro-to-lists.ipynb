{
 "cells": [
  {
   "cell_type": "markdown",
   "id": "4841bedb",
   "metadata": {
    "papermill": {
     "duration": 0.005544,
     "end_time": "2025-02-26T18:19:49.984211",
     "exception": false,
     "start_time": "2025-02-26T18:19:49.978667",
     "status": "completed"
    },
    "tags": []
   },
   "source": [
    "**This notebook is an exercise in the [Intro to Programming](https://www.kaggle.com/learn/intro-to-programming) course.  You can reference the tutorial at [this link](https://www.kaggle.com/alexisbcook/intro-to-lists).**\n",
    "\n",
    "---\n"
   ]
  },
  {
   "cell_type": "markdown",
   "id": "3b2a3319",
   "metadata": {
    "papermill": {
     "duration": 0.003613,
     "end_time": "2025-02-26T18:19:49.993640",
     "exception": false,
     "start_time": "2025-02-26T18:19:49.990027",
     "status": "completed"
    },
    "tags": []
   },
   "source": [
    "In the tutorial, you learned how to define and modify Python lists.  In this exercise, you will use your new knowledge to solve several problems.\n",
    "\n",
    "# Set up the notebook\n",
    "\n",
    "Run the next code cell without changes to set up the notebook."
   ]
  },
  {
   "cell_type": "code",
   "execution_count": 1,
   "id": "8fde371e",
   "metadata": {
    "execution": {
     "iopub.execute_input": "2025-02-26T18:19:50.006609Z",
     "iopub.status.busy": "2025-02-26T18:19:50.005727Z",
     "iopub.status.idle": "2025-02-26T18:19:51.603711Z",
     "shell.execute_reply": "2025-02-26T18:19:51.601511Z"
    },
    "papermill": {
     "duration": 1.607354,
     "end_time": "2025-02-26T18:19:51.606188",
     "exception": false,
     "start_time": "2025-02-26T18:19:49.998834",
     "status": "completed"
    },
    "tags": []
   },
   "outputs": [
    {
     "name": "stdout",
     "output_type": "stream",
     "text": [
      "Setup complete.\n"
     ]
    }
   ],
   "source": [
    "from learntools.core import binder\n",
    "binder.bind(globals())\n",
    "from learntools.intro_to_programming.ex5 import *\n",
    "print('Setup complete.')"
   ]
  },
  {
   "cell_type": "markdown",
   "id": "ac491eef",
   "metadata": {
    "papermill": {
     "duration": 0.003324,
     "end_time": "2025-02-26T18:19:51.613985",
     "exception": false,
     "start_time": "2025-02-26T18:19:51.610661",
     "status": "completed"
    },
    "tags": []
   },
   "source": [
    "# Question 1\n",
    "\n",
    "You own a restaurant with five food dishes, organized in the Python list `menu` below.  One day, you decide to:\n",
    "- remove bean soup (`'bean soup'`) from the menu, and\n",
    "- add roasted beet salad (`'roasted beet salad'`) to the menu.\n",
    "\n",
    "Implement this change to the list below.  While completing this task, \n",
    "- do not change the line that creates the `menu` list.  \n",
    "- your answer should use `.remove()` and `.append()`.  "
   ]
  },
  {
   "cell_type": "code",
   "execution_count": 2,
   "id": "707cbd0f",
   "metadata": {
    "execution": {
     "iopub.execute_input": "2025-02-26T18:19:51.623237Z",
     "iopub.status.busy": "2025-02-26T18:19:51.622476Z",
     "iopub.status.idle": "2025-02-26T18:19:51.633078Z",
     "shell.execute_reply": "2025-02-26T18:19:51.631696Z"
    },
    "papermill": {
     "duration": 0.017298,
     "end_time": "2025-02-26T18:19:51.634758",
     "exception": false,
     "start_time": "2025-02-26T18:19:51.617460",
     "status": "completed"
    },
    "tags": []
   },
   "outputs": [
    {
     "data": {
      "application/javascript": [
       "parent.postMessage({\"jupyterEvent\": \"custom.exercise_interaction\", \"data\": {\"outcomeType\": 1, \"valueTowardsCompletion\": 0.2, \"interactionType\": 1, \"questionType\": 2, \"questionId\": \"1_FoodMenu\", \"learnToolsVersion\": \"0.3.4\", \"failureMessage\": \"\", \"exceptionClass\": \"\", \"trace\": \"\"}}, \"*\")"
      ],
      "text/plain": [
       "<IPython.core.display.Javascript object>"
      ]
     },
     "metadata": {},
     "output_type": "display_data"
    },
    {
     "data": {
      "text/markdown": [
       "<span style=\"color:#33cc33\">Correct</span>"
      ],
      "text/plain": [
       "Correct"
      ]
     },
     "metadata": {},
     "output_type": "display_data"
    }
   ],
   "source": [
    "# Do not change: Initial menu for your restaurant\n",
    "menu = ['stewed meat with onions', 'bean soup', 'risotto with trout and shrimp',\n",
    "       'fish soup with cream and onion', 'gyro']\n",
    "\n",
    "# TODO: remove 'bean soup', and add 'roasted beet salad' to the end of the menu\n",
    "menu.remove('bean soup')\n",
    "menu.append('roasted beet salad')\n",
    "# Do not change: Check your answer\n",
    "q1.check()"
   ]
  },
  {
   "cell_type": "code",
   "execution_count": 3,
   "id": "0a176df1",
   "metadata": {
    "execution": {
     "iopub.execute_input": "2025-02-26T18:19:51.644175Z",
     "iopub.status.busy": "2025-02-26T18:19:51.643825Z",
     "iopub.status.idle": "2025-02-26T18:19:51.649767Z",
     "shell.execute_reply": "2025-02-26T18:19:51.648036Z"
    },
    "papermill": {
     "duration": 0.012654,
     "end_time": "2025-02-26T18:19:51.651893",
     "exception": false,
     "start_time": "2025-02-26T18:19:51.639239",
     "status": "completed"
    },
    "tags": []
   },
   "outputs": [],
   "source": [
    "# Uncomment to see a hint\n",
    "#q1.hint()\n",
    "\n",
    "# Uncomment to see the solution\n",
    "#q1.solution()"
   ]
  },
  {
   "cell_type": "markdown",
   "id": "bd69138e",
   "metadata": {
    "papermill": {
     "duration": 0.003572,
     "end_time": "2025-02-26T18:19:51.660206",
     "exception": false,
     "start_time": "2025-02-26T18:19:51.656634",
     "status": "completed"
    },
    "tags": []
   },
   "source": [
    "# Question 2\n",
    "\n",
    "The list `num_customers` contains the number of customers who came into your restaurant every day over the last month (which lasted thirty days).  Fill in values for each of the following:\n",
    "- `avg_first_seven` - average number of customers who visited in the first seven days\n",
    "- `avg_last_seven` - average number of customers who visited in the last seven days\n",
    "- `max_month` - number of customers on the day that got the most customers in the last month\n",
    "- `min_month` - number of customers on the day that got the least customers in the last month\n",
    "\n",
    "Answer this question by writing code.  For instance, if you have to find the minimum value in a list, use `min()` instead of scanning for the smallest value and directly filling in a number."
   ]
  },
  {
   "cell_type": "code",
   "execution_count": 4,
   "id": "61c2b690",
   "metadata": {
    "execution": {
     "iopub.execute_input": "2025-02-26T18:19:51.669089Z",
     "iopub.status.busy": "2025-02-26T18:19:51.668790Z",
     "iopub.status.idle": "2025-02-26T18:19:51.679488Z",
     "shell.execute_reply": "2025-02-26T18:19:51.676965Z"
    },
    "papermill": {
     "duration": 0.018739,
     "end_time": "2025-02-26T18:19:51.682650",
     "exception": false,
     "start_time": "2025-02-26T18:19:51.663911",
     "status": "completed"
    },
    "tags": []
   },
   "outputs": [
    {
     "data": {
      "application/javascript": [
       "parent.postMessage({\"jupyterEvent\": \"custom.exercise_interaction\", \"data\": {\"outcomeType\": 1, \"valueTowardsCompletion\": 0.2, \"interactionType\": 1, \"questionType\": 1, \"questionId\": \"2_NumCustomers\", \"learnToolsVersion\": \"0.3.4\", \"failureMessage\": \"\", \"exceptionClass\": \"\", \"trace\": \"\"}}, \"*\")"
      ],
      "text/plain": [
       "<IPython.core.display.Javascript object>"
      ]
     },
     "metadata": {},
     "output_type": "display_data"
    },
    {
     "data": {
      "text/markdown": [
       "<span style=\"color:#33cc33\">Correct</span>"
      ],
      "text/plain": [
       "Correct"
      ]
     },
     "metadata": {},
     "output_type": "display_data"
    }
   ],
   "source": [
    "# Do not change: Number of customers each day for the last month\n",
    "num_customers = [137, 147, 135, 128, 170, 174, 165, 146, 126, 159,\n",
    "                 141, 148, 132, 147, 168, 153, 170, 161, 148, 152,\n",
    "                 141, 151, 131, 149, 164, 163, 143, 143, 166, 171]\n",
    "\n",
    "# TODO: Fill in values for the variables below\n",
    "avg_first_seven = sum(num_customers[:7])/7 \n",
    "avg_last_seven = sum(num_customers[-7:])/7\n",
    "max_month = max(num_customers)\n",
    "min_month = min(num_customers)\n",
    "# Do not change: Check your answer\n",
    "q2.check()"
   ]
  },
  {
   "cell_type": "code",
   "execution_count": 5,
   "id": "24b47694",
   "metadata": {
    "execution": {
     "iopub.execute_input": "2025-02-26T18:19:51.693883Z",
     "iopub.status.busy": "2025-02-26T18:19:51.693520Z",
     "iopub.status.idle": "2025-02-26T18:19:51.699173Z",
     "shell.execute_reply": "2025-02-26T18:19:51.696976Z"
    },
    "papermill": {
     "duration": 0.013976,
     "end_time": "2025-02-26T18:19:51.701963",
     "exception": false,
     "start_time": "2025-02-26T18:19:51.687987",
     "status": "completed"
    },
    "tags": []
   },
   "outputs": [],
   "source": [
    "# Uncomment to see a hint\n",
    "#q2.hint()\n",
    "\n",
    "# Uncomment to see the solution\n",
    "#q2.solution()"
   ]
  },
  {
   "cell_type": "markdown",
   "id": "307fc662",
   "metadata": {
    "papermill": {
     "duration": 0.004139,
     "end_time": "2025-02-26T18:19:51.712870",
     "exception": false,
     "start_time": "2025-02-26T18:19:51.708731",
     "status": "completed"
    },
    "tags": []
   },
   "source": [
    "# Question 3\n",
    "\n",
    "In the tutorial, we gave an example of a Python string with information that was better as a list."
   ]
  },
  {
   "cell_type": "code",
   "execution_count": 6,
   "id": "bb44d69b",
   "metadata": {
    "execution": {
     "iopub.execute_input": "2025-02-26T18:19:51.724530Z",
     "iopub.status.busy": "2025-02-26T18:19:51.724022Z",
     "iopub.status.idle": "2025-02-26T18:19:51.730856Z",
     "shell.execute_reply": "2025-02-26T18:19:51.728384Z"
    },
    "papermill": {
     "duration": 0.016753,
     "end_time": "2025-02-26T18:19:51.733624",
     "exception": false,
     "start_time": "2025-02-26T18:19:51.716871",
     "status": "completed"
    },
    "tags": []
   },
   "outputs": [],
   "source": [
    "flowers = \"pink primrose,hard-leaved pocket orchid,canterbury bells,sweet pea,english marigold,tiger lily,moon orchid,bird of paradise,monkshood,globe thistle\""
   ]
  },
  {
   "cell_type": "markdown",
   "id": "f544bb43",
   "metadata": {
    "papermill": {
     "duration": 0.003954,
     "end_time": "2025-02-26T18:19:51.743007",
     "exception": false,
     "start_time": "2025-02-26T18:19:51.739053",
     "status": "completed"
    },
    "tags": []
   },
   "source": [
    "You can actually use Python to quickly turn this string into a list with `.split()`.  In the parentheses, we need to provide the character should be used to mark the end of one list item and the beginning of another, and enclose it in quotation marks.  In this case, that character is a comma."
   ]
  },
  {
   "cell_type": "code",
   "execution_count": 7,
   "id": "922c2ddc",
   "metadata": {
    "execution": {
     "iopub.execute_input": "2025-02-26T18:19:51.756626Z",
     "iopub.status.busy": "2025-02-26T18:19:51.756132Z",
     "iopub.status.idle": "2025-02-26T18:19:51.762485Z",
     "shell.execute_reply": "2025-02-26T18:19:51.760945Z"
    },
    "papermill": {
     "duration": 0.014674,
     "end_time": "2025-02-26T18:19:51.764138",
     "exception": false,
     "start_time": "2025-02-26T18:19:51.749464",
     "status": "completed"
    },
    "tags": []
   },
   "outputs": [
    {
     "name": "stdout",
     "output_type": "stream",
     "text": [
      "['pink primrose', 'hard-leaved pocket orchid', 'canterbury bells', 'sweet pea', 'english marigold', 'tiger lily', 'moon orchid', 'bird of paradise', 'monkshood', 'globe thistle']\n"
     ]
    }
   ],
   "source": [
    " print(flowers.split(\",\"))"
   ]
  },
  {
   "cell_type": "markdown",
   "id": "6eb13ecf",
   "metadata": {
    "papermill": {
     "duration": 0.004618,
     "end_time": "2025-02-26T18:19:51.775759",
     "exception": false,
     "start_time": "2025-02-26T18:19:51.771141",
     "status": "completed"
    },
    "tags": []
   },
   "source": [
    "Now it is your turn to try this out!  Create two Python lists:\n",
    "- `letters` should be a Python list where each entry is an uppercase letter of the English alphabet.  For instance, the first two entries should be `\"A\"` and `\"B\"`, and the final two entries should be `\"Y\"` and `\"Z\"`.  Use the string `alphabet` to create this list.\n",
    "- `address` should be a Python list where each row in `address` is a different item in the list.  Currently, each row in `address` is separated by a comma. "
   ]
  },
  {
   "cell_type": "code",
   "execution_count": 8,
   "id": "a06b3efd",
   "metadata": {
    "execution": {
     "iopub.execute_input": "2025-02-26T18:19:51.787136Z",
     "iopub.status.busy": "2025-02-26T18:19:51.786674Z",
     "iopub.status.idle": "2025-02-26T18:19:51.797655Z",
     "shell.execute_reply": "2025-02-26T18:19:51.795525Z"
    },
    "papermill": {
     "duration": 0.021616,
     "end_time": "2025-02-26T18:19:51.801878",
     "exception": false,
     "start_time": "2025-02-26T18:19:51.780262",
     "status": "completed"
    },
    "tags": []
   },
   "outputs": [
    {
     "data": {
      "application/javascript": [
       "parent.postMessage({\"jupyterEvent\": \"custom.exercise_interaction\", \"data\": {\"outcomeType\": 4, \"interactionType\": 1, \"questionType\": 1, \"questionId\": \"3_SplitString\", \"learnToolsVersion\": \"0.3.4\", \"valueTowardsCompletion\": 0.0, \"failureMessage\": \"\", \"exceptionClass\": \"\", \"trace\": \"\"}}, \"*\")"
      ],
      "text/plain": [
       "<IPython.core.display.Javascript object>"
      ]
     },
     "metadata": {},
     "output_type": "display_data"
    },
    {
     "data": {
      "text/markdown": [
       "<span style=\"color:#ccaa33\">Check:</span> When you've updated the starter code, `check()` will tell you whether your code is correct. You need to update the code that creates variables `letters`, `formatted_address`"
      ],
      "text/plain": [
       "Check: When you've updated the starter code, `check()` will tell you whether your code is correct. You need to update the code that creates variables `letters`, `formatted_address`"
      ]
     },
     "metadata": {},
     "output_type": "display_data"
    }
   ],
   "source": [
    "# DO not change: Define two Python strings\n",
    "alphabet = \"A.B.C.D.E.F.G.H.I.J.K.L.M.N.O.P.Q.R.S.T.U.V.W.X.Y.Z\"\n",
    "address = \"Mr. H. Potter,The cupboard under the Stairs,4 Privet Drive,Little Whinging,Surrey\"\n",
    "\n",
    "# TODO: Convert strings into Python lists\n",
    "letters = ____\n",
    "formatted_address = ____\n",
    "\n",
    "# Do not change: Check your answer\n",
    "q3.check()"
   ]
  },
  {
   "cell_type": "code",
   "execution_count": 9,
   "id": "c717f5e8",
   "metadata": {
    "execution": {
     "iopub.execute_input": "2025-02-26T18:19:51.813886Z",
     "iopub.status.busy": "2025-02-26T18:19:51.813539Z",
     "iopub.status.idle": "2025-02-26T18:19:51.823393Z",
     "shell.execute_reply": "2025-02-26T18:19:51.822067Z"
    },
    "papermill": {
     "duration": 0.017566,
     "end_time": "2025-02-26T18:19:51.825448",
     "exception": false,
     "start_time": "2025-02-26T18:19:51.807882",
     "status": "completed"
    },
    "tags": []
   },
   "outputs": [
    {
     "data": {
      "application/javascript": [
       "parent.postMessage({\"jupyterEvent\": \"custom.exercise_interaction\", \"data\": {\"interactionType\": 3, \"questionType\": 1, \"questionId\": \"3_SplitString\", \"learnToolsVersion\": \"0.3.4\", \"valueTowardsCompletion\": 0.0, \"failureMessage\": \"\", \"exceptionClass\": \"\", \"trace\": \"\", \"outcomeType\": 4}}, \"*\")"
      ],
      "text/plain": [
       "<IPython.core.display.Javascript object>"
      ]
     },
     "metadata": {},
     "output_type": "display_data"
    },
    {
     "data": {
      "text/markdown": [
       "<span style=\"color:#33cc99\">Solution:</span> \n",
       "```python\n",
       "letters = alphabet.split(\".\")\n",
       "formatted_address = address.split(\",\")\n",
       "\n",
       "```"
      ],
      "text/plain": [
       "Solution: \n",
       "```python\n",
       "letters = alphabet.split(\".\")\n",
       "formatted_address = address.split(\",\")\n",
       "\n",
       "```"
      ]
     },
     "metadata": {},
     "output_type": "display_data"
    }
   ],
   "source": [
    "# Uncomment to see a hint\n",
    "#q3.hint()\n",
    "\n",
    "# Uncomment to see the solution\n",
    "q3.solution()"
   ]
  },
  {
   "cell_type": "markdown",
   "id": "db634bc1",
   "metadata": {
    "papermill": {
     "duration": 0.005318,
     "end_time": "2025-02-26T18:19:51.836301",
     "exception": false,
     "start_time": "2025-02-26T18:19:51.830983",
     "status": "completed"
    },
    "tags": []
   },
   "source": [
    "# Question 4\n",
    "\n",
    "In the Python course, you'll learn all about **list comprehensions**, which allow you to create a list based on the values in another list.  In this question, you'll get a brief preview of how they work.\n",
    "\n",
    "Say we're working with the list below."
   ]
  },
  {
   "cell_type": "code",
   "execution_count": 10,
   "id": "796a27b8",
   "metadata": {
    "execution": {
     "iopub.execute_input": "2025-02-26T18:19:51.848951Z",
     "iopub.status.busy": "2025-02-26T18:19:51.848137Z",
     "iopub.status.idle": "2025-02-26T18:19:51.853524Z",
     "shell.execute_reply": "2025-02-26T18:19:51.852482Z"
    },
    "papermill": {
     "duration": 0.013084,
     "end_time": "2025-02-26T18:19:51.854947",
     "exception": false,
     "start_time": "2025-02-26T18:19:51.841863",
     "status": "completed"
    },
    "tags": []
   },
   "outputs": [],
   "source": [
    "test_ratings = [1, 2, 3, 4, 5]"
   ]
  },
  {
   "cell_type": "markdown",
   "id": "87e3b8c5",
   "metadata": {
    "papermill": {
     "duration": 0.00423,
     "end_time": "2025-02-26T18:19:51.864258",
     "exception": false,
     "start_time": "2025-02-26T18:19:51.860028",
     "status": "completed"
    },
    "tags": []
   },
   "source": [
    "Then we can use this list (`test_ratings`) to create a new list (`test_liked`) where each item has been turned into a boolean, depending on whether or not the item is greater than or equal to four."
   ]
  },
  {
   "cell_type": "code",
   "execution_count": 11,
   "id": "6656358e",
   "metadata": {
    "execution": {
     "iopub.execute_input": "2025-02-26T18:19:51.877731Z",
     "iopub.status.busy": "2025-02-26T18:19:51.877200Z",
     "iopub.status.idle": "2025-02-26T18:19:51.884710Z",
     "shell.execute_reply": "2025-02-26T18:19:51.882801Z"
    },
    "papermill": {
     "duration": 0.016917,
     "end_time": "2025-02-26T18:19:51.887320",
     "exception": false,
     "start_time": "2025-02-26T18:19:51.870403",
     "status": "completed"
    },
    "tags": []
   },
   "outputs": [
    {
     "name": "stdout",
     "output_type": "stream",
     "text": [
      "[False, False, False, True, True]\n"
     ]
    }
   ],
   "source": [
    "test_liked = [i>=4 for i in test_ratings]\n",
    "print(test_liked)"
   ]
  },
  {
   "cell_type": "markdown",
   "id": "01f89d2d",
   "metadata": {
    "papermill": {
     "duration": 0.004391,
     "end_time": "2025-02-26T18:19:51.897971",
     "exception": false,
     "start_time": "2025-02-26T18:19:51.893580",
     "status": "completed"
    },
    "tags": []
   },
   "source": [
    "In this question, you'll use this list comprehension to define a function `percentage_liked()` that takes one argument as input:\n",
    "- `ratings`: list of ratings that people gave to a movie, where each rating is a number between 1-5, inclusive\n",
    "\n",
    "We say someone liked the movie, if they gave a rating of either 4 or 5.  Your function should return the percentage of people who liked the movie.\n",
    "\n",
    "For instance, if we supply a value of `[1, 2, 3, 4, 5, 4, 5, 1]`, then 50% (4/8) of the people liked the movie, and the function should return `0.5`.\n",
    "\n",
    "Part of the function has already been completed for you.  You need only use `list_liked` to calculate `percentage_liked`."
   ]
  },
  {
   "cell_type": "code",
   "execution_count": 12,
   "id": "c854c1c0",
   "metadata": {
    "execution": {
     "iopub.execute_input": "2025-02-26T18:19:51.908836Z",
     "iopub.status.busy": "2025-02-26T18:19:51.908293Z",
     "iopub.status.idle": "2025-02-26T18:19:51.919503Z",
     "shell.execute_reply": "2025-02-26T18:19:51.917402Z"
    },
    "papermill": {
     "duration": 0.019341,
     "end_time": "2025-02-26T18:19:51.921737",
     "exception": false,
     "start_time": "2025-02-26T18:19:51.902396",
     "status": "completed"
    },
    "tags": []
   },
   "outputs": [
    {
     "data": {
      "application/javascript": [
       "parent.postMessage({\"jupyterEvent\": \"custom.exercise_interaction\", \"data\": {\"outcomeType\": 2, \"failureMessage\": \"Expected return value of `0.5` given `ratings=[1, 2, 3, 4, 5, 4, 5, 1]`, but got `<learntools.core.constants.PlaceholderValue object at 0x7bcb9d581e10>` instead.\", \"interactionType\": 1, \"questionType\": 2, \"questionId\": \"4_PercentageLiked\", \"learnToolsVersion\": \"0.3.4\", \"valueTowardsCompletion\": 0.0, \"exceptionClass\": \"\", \"trace\": \"\"}}, \"*\")"
      ],
      "text/plain": [
       "<IPython.core.display.Javascript object>"
      ]
     },
     "metadata": {},
     "output_type": "display_data"
    },
    {
     "data": {
      "text/markdown": [
       "<span style=\"color:#cc3333\">Incorrect:</span> Expected return value of `0.5` given `ratings=[1, 2, 3, 4, 5, 4, 5, 1]`, but got `<learntools.core.constants.PlaceholderValue object at 0x7bcb9d581e10>` instead."
      ],
      "text/plain": [
       "Incorrect: Expected return value of `0.5` given `ratings=[1, 2, 3, 4, 5, 4, 5, 1]`, but got `<learntools.core.constants.PlaceholderValue object at 0x7bcb9d581e10>` instead."
      ]
     },
     "metadata": {},
     "output_type": "display_data"
    }
   ],
   "source": [
    "\n",
    "def percentage_liked(ratings):\n",
    "    list_liked = [i>=4 for i in ratings]\n",
    "    # TODO: Complete the function\n",
    "    percentage_liked = ____\n",
    "    return percentage_liked\n",
    "\n",
    "# Do not change: should return 0.5\n",
    "percentage_liked([1, 2, 3, 4, 5, 4, 5, 1])\n",
    "\n",
    "# Do not change: Check your answer\n",
    "q4.check()"
   ]
  },
  {
   "cell_type": "code",
   "execution_count": 13,
   "id": "f19c6dab",
   "metadata": {
    "execution": {
     "iopub.execute_input": "2025-02-26T18:19:51.934074Z",
     "iopub.status.busy": "2025-02-26T18:19:51.933581Z",
     "iopub.status.idle": "2025-02-26T18:19:51.940408Z",
     "shell.execute_reply": "2025-02-26T18:19:51.937862Z"
    },
    "papermill": {
     "duration": 0.015955,
     "end_time": "2025-02-26T18:19:51.942840",
     "exception": false,
     "start_time": "2025-02-26T18:19:51.926885",
     "status": "completed"
    },
    "tags": []
   },
   "outputs": [],
   "source": [
    "# Uncomment to see a hint\n",
    "#q4.hint()\n",
    "\n",
    "# Uncomment to see the solution\n",
    "#q4.solution()"
   ]
  },
  {
   "cell_type": "markdown",
   "id": "55c44517",
   "metadata": {
    "papermill": {
     "duration": 0.004452,
     "end_time": "2025-02-26T18:19:51.952740",
     "exception": false,
     "start_time": "2025-02-26T18:19:51.948288",
     "status": "completed"
    },
    "tags": []
   },
   "source": [
    "# 🌶️ Question 5\n",
    " \n",
    "Say you're doing analytics for a website.  You need to write a function that returns the percentage growth in the total number of users relative to a specified number of years ago.\n",
    "\n",
    "Your function `percentage_growth()` should take two arguments as input:\n",
    "- `num_users` = Python list with the total number of users each year.  So `num_users[0]` is the total number of users in the first year, `num_users[1]` is the total number of users in the second year, and so on.  The final entry in the list gives the total number of users in the most recently completed year.\n",
    "- `yrs_ago` = number of years to go back in time when calculating the growth percentage\n",
    "\n",
    "For instance, say `num_users = [920344, 1043553, 1204334, 1458996, 1503323, 1593432, 1623463, 1843064, 1930992, 2001078]`.\n",
    "- if `yrs_ago = 1`, we want the function to return a value of about `0.036`. This corresponds to a percentage growth of approximately 3.6%, calculated as (2001078 - 1930992)/1930992.\n",
    "- if `years_ago = 7`, we would want to return approximately `0.66`.  This corresponds to a percentage growth of approximately 66%, calculated as (2001078 - 1204334)/1204334.\n",
    "\n",
    "Your coworker sent you a draft of a function, but it doesn't seem to be doing the correct calculation.  Can you figure out what has gone wrong and make the needed changes?"
   ]
  },
  {
   "cell_type": "code",
   "execution_count": 14,
   "id": "c4ff838f",
   "metadata": {
    "execution": {
     "iopub.execute_input": "2025-02-26T18:19:51.967607Z",
     "iopub.status.busy": "2025-02-26T18:19:51.967239Z",
     "iopub.status.idle": "2025-02-26T18:19:51.979975Z",
     "shell.execute_reply": "2025-02-26T18:19:51.977781Z"
    },
    "papermill": {
     "duration": 0.02294,
     "end_time": "2025-02-26T18:19:51.982262",
     "exception": false,
     "start_time": "2025-02-26T18:19:51.959322",
     "status": "completed"
    },
    "tags": []
   },
   "outputs": [
    {
     "name": "stdout",
     "output_type": "stream",
     "text": [
      "0.0\n",
      "0.2807272117129434\n"
     ]
    },
    {
     "data": {
      "application/javascript": [
       "parent.postMessage({\"jupyterEvent\": \"custom.exercise_interaction\", \"data\": {\"outcomeType\": 2, \"failureMessage\": \"Expected return value of `0.03629533421163837` given `num_users=[920344, 1043553, 1204334, 1458996, 1503323, 1593432, 1623463, 1843064, 1930992, 2001078]`, `yrs_ago=1`, but got `0.0` instead.\", \"interactionType\": 1, \"questionType\": 2, \"questionId\": \"5_WebsiteAnalytics\", \"learnToolsVersion\": \"0.3.4\", \"valueTowardsCompletion\": 0.0, \"exceptionClass\": \"\", \"trace\": \"\"}}, \"*\")"
      ],
      "text/plain": [
       "<IPython.core.display.Javascript object>"
      ]
     },
     "metadata": {},
     "output_type": "display_data"
    },
    {
     "data": {
      "text/markdown": [
       "<span style=\"color:#cc3333\">Incorrect:</span> Expected return value of `0.03629533421163837` given `num_users=[920344, 1043553, 1204334, 1458996, 1503323, 1593432, 1623463, 1843064, 1930992, 2001078]`, `yrs_ago=1`, but got `0.0` instead."
      ],
      "text/plain": [
       "Incorrect: Expected return value of `0.03629533421163837` given `num_users=[920344, 1043553, 1204334, 1458996, 1503323, 1593432, 1623463, 1843064, 1930992, 2001078]`, `yrs_ago=1`, but got `0.0` instead."
      ]
     },
     "metadata": {},
     "output_type": "display_data"
    }
   ],
   "source": [
    "# TODO: Edit the function\n",
    "def percentage_growth(num_users, yrs_ago):\n",
    "    growth = (num_users[len(num_users)-1] - num_users[len(num_users)-yrs_ago])/num_users[len(num_users)-2]\n",
    "    return growth\n",
    "\n",
    "# Do not change: Variable for calculating some test examples\n",
    "num_users_test = [920344, 1043553, 1204334, 1458996, 1503323, 1593432, 1623463, 1843064, 1930992, 2001078]\n",
    "\n",
    "# Do not change: Should return .036\n",
    "print(percentage_growth(num_users_test, 1))\n",
    "\n",
    "# Do not change: Should return 0.66\n",
    "print(percentage_growth(num_users_test, 7))\n",
    "\n",
    "# Do not change: Check your answer\n",
    "q5.check()"
   ]
  },
  {
   "cell_type": "code",
   "execution_count": 15,
   "id": "9f10f92c",
   "metadata": {
    "execution": {
     "iopub.execute_input": "2025-02-26T18:19:51.995122Z",
     "iopub.status.busy": "2025-02-26T18:19:51.994607Z",
     "iopub.status.idle": "2025-02-26T18:19:52.000600Z",
     "shell.execute_reply": "2025-02-26T18:19:51.998794Z"
    },
    "papermill": {
     "duration": 0.014174,
     "end_time": "2025-02-26T18:19:52.002544",
     "exception": false,
     "start_time": "2025-02-26T18:19:51.988370",
     "status": "completed"
    },
    "tags": []
   },
   "outputs": [],
   "source": [
    "# Uncomment to see a hint\n",
    "#q5.hint()\n",
    "\n",
    "# Uncomment to see the solution\n",
    "#q5.solution()"
   ]
  },
  {
   "cell_type": "markdown",
   "id": "29a379a0",
   "metadata": {
    "papermill": {
     "duration": 0.005878,
     "end_time": "2025-02-26T18:19:52.018744",
     "exception": false,
     "start_time": "2025-02-26T18:19:52.012866",
     "status": "completed"
    },
    "tags": []
   },
   "source": [
    "# Congratulations!\n",
    "\n",
    "Congratulations for finishing the Intro to Programming course!  You should be proud of your very first steps with learning programming.  As next steps, we recommend taking:\n",
    "- the **[Python course](http://www.kaggle.com/learn/python)**, and \n",
    "- the **[Intro to Machine Learning course](https://www.kaggle.com/learn/intro-to-machine-learning)**."
   ]
  },
  {
   "cell_type": "markdown",
   "id": "339e17d0",
   "metadata": {
    "papermill": {
     "duration": 0.005028,
     "end_time": "2025-02-26T18:19:52.030732",
     "exception": false,
     "start_time": "2025-02-26T18:19:52.025704",
     "status": "completed"
    },
    "tags": []
   },
   "source": [
    "---\n",
    "\n",
    "\n",
    "\n",
    "\n",
    "*Have questions or comments? Visit the [course discussion forum](https://www.kaggle.com/learn/intro-to-programming/discussion) to chat with other learners.*"
   ]
  }
 ],
 "metadata": {
  "kaggle": {
   "accelerator": "none",
   "dataSources": [],
   "isGpuEnabled": false,
   "isInternetEnabled": false,
   "language": "python",
   "sourceType": "notebook"
  },
  "kernelspec": {
   "display_name": "Python 3",
   "language": "python",
   "name": "python3"
  },
  "language_info": {
   "codemirror_mode": {
    "name": "ipython",
    "version": 3
   },
   "file_extension": ".py",
   "mimetype": "text/x-python",
   "name": "python",
   "nbconvert_exporter": "python",
   "pygments_lexer": "ipython3",
   "version": "3.10.12"
  },
  "papermill": {
   "default_parameters": {},
   "duration": 5.430654,
   "end_time": "2025-02-26T18:19:52.661560",
   "environment_variables": {},
   "exception": null,
   "input_path": "__notebook__.ipynb",
   "output_path": "__notebook__.ipynb",
   "parameters": {},
   "start_time": "2025-02-26T18:19:47.230906",
   "version": "2.6.0"
  }
 },
 "nbformat": 4,
 "nbformat_minor": 5
}
